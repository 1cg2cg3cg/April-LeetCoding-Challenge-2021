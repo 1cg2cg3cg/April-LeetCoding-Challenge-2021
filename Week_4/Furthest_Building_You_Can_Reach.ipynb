{
  "nbformat": 4,
  "nbformat_minor": 0,
  "metadata": {
    "colab": {
      "name": "Week 4 : Furthest Building You Can Reach.ipynb",
      "provenance": [],
      "collapsed_sections": [],
      "authorship_tag": "ABX9TyN0D24DGNqRyO5R91wiHt4j",
      "include_colab_link": true
    },
    "kernelspec": {
      "name": "python3",
      "display_name": "Python 3"
    },
    "language_info": {
      "name": "python"
    }
  },
  "cells": [
    {
      "cell_type": "markdown",
      "metadata": {
        "id": "view-in-github",
        "colab_type": "text"
      },
      "source": [
        "<a href=\"https://colab.research.google.com/github/1cg2cg3cg/April-LeetCoding-Challenge-2021/blob/main/Week_4/Furthest_Building_You_Can_Reach.ipynb\" target=\"_parent\"><img src=\"https://colab.research.google.com/assets/colab-badge.svg\" alt=\"Open In Colab\"/></a>"
      ]
    },
    {
      "cell_type": "code",
      "metadata": {
        "id": "fHE5zlSMwq7f"
      },
      "source": [
        "class Solution:\n",
        "    def furthestBuilding(self, heights: List[int], bricks: int, ladders: int) -> int:\n",
        "        need = []\n",
        "        for i in range(len(heights)-1) :\n",
        "            if heights[i+1] - heights[i] > 0 :\n",
        "                need.append(heights[i+1] - heights[i])\n",
        "            else :\n",
        "                need.append(0)\n",
        "            \n",
        "        stack = []\n",
        "        answer = 0\n",
        "        \n",
        "        for i in range(len(need)) :\n",
        "            stack.append(need[i])\n",
        "            \n",
        "            if sum(stack) > bricks and ladders > 0 :\n",
        "                stack.remove(max(stack))\n",
        "                ladders -= 1\n",
        "            \n",
        "            answer += 1\n",
        "            \n",
        "            if sum(stack) > bricks and ladders == 0 :\n",
        "                return answer-1\n",
        "        \n",
        "        return answer"
      ],
      "execution_count": null,
      "outputs": []
    }
  ]
}